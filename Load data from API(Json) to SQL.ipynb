{
 "cells": [
  {
   "cell_type": "code",
   "execution_count": null,
   "id": "df1d7aea",
   "metadata": {},
   "outputs": [],
   "source": [
    "import os\n",
    "import sys\n",
    "import urllib\n",
    "import shutil\n",
    "import time\n",
    "import requests\n",
    "from requests.auth import HTTPBasicAuth\n",
    "from requests import Request, Session\n",
    "import base64\n",
    "import logging\n",
    "import json\n",
    "import pandas as pd\n",
    "import numpy as np\n",
    "import sqlalchemy as sqa\n",
    "from pandas.io.json import json_normalize\n",
    "import glob\n",
    "from threading import Thread\n",
    "import itertools\n",
    "from functools import reduce"
   ]
  },
  {
   "cell_type": "code",
   "execution_count": null,
   "id": "d1712b1c",
   "metadata": {},
   "outputs": [],
   "source": [
    "ConnStr = \"DRIVER = {Provide your driver name };TrustServerCertificate = yes;Authentication=ActiveDirectoryIntegrated;SERVER = GiveyourServernamewithport;DATABASE = DBNAME\""
   ]
  },
  {
   "cell_type": "code",
   "execution_count": null,
   "id": "38c3e007",
   "metadata": {},
   "outputs": [],
   "source": [
    "PROXY_PASS =os.environ.get('PROXY_PASS')\n",
    "proxies = {\n",
    "    'http':'proxy address',\n",
    "    'https':'proxy address'\n",
    "}\n"
   ]
  },
  {
   "cell_type": "code",
   "execution_count": null,
   "id": "7f13df70",
   "metadata": {},
   "outputs": [],
   "source": [
    "def ConnectToDB(ConnStr):\n",
    "    params = urllib.parse.quote_plus(ConnStr)\n",
    "    engine = sqa.create_engine(\"mssql+pyodbc:///?odbc_connect=%s\" % params)\n",
    "    cnxn = engine.connect()\n",
    "    cnxn.fast_executemany = True\n",
    "    return cnxn\n",
    "\n",
    "def LoadToSQL(tbl,cnxn,chunk):\n",
    "    chunk.to_sql(name = tbl,con = cnxn,schema = 'dbo',if_exists = 'append',index = False, index_Label=None,chunksize = 100000)\n",
    "    \n",
    "def CreateTargetTable(tbl,cnxn,chunk):\n",
    "    chunk.to_sql(name = tbl,con = cnxn;schema = 'dbo',if_exist = 'replace',index = False,index_Label = None,chunksize =100000,dtype  = None)"
   ]
  },
  {
   "cell_type": "code",
   "execution_count": null,
   "id": "4dcb664b",
   "metadata": {},
   "outputs": [],
   "source": [
    "def ParallelLoad(df,TargetTable,ConnString,func,ThreadLimit = 16):\n",
    "    connections = []\n",
    "    for i in range(0,ThreadLimit,1):\n",
    "        connections.append(ConnectToDB(ConnString))\n",
    "    threads=[]\n",
    "    StepSize = int(df.shape[0]/ThreadLimit)\n",
    "    for i in range(0,ThreadLimit):\n",
    "        process = Thread(target=func,args = [TargetTable,connections[i],df[i*StepSize:(i*StepSize)+StepSize]])\n",
    "        process.start()\n",
    "        threads.append(process)\n",
    "    for process in threads:\n",
    "        process.join()\n",
    "    threads = []\n",
    "    if (StepSize*ThreadLimit)!= df.shape[0]:\n",
    "        process = Thread(target=func,args = [TargetTable,connection[0],df(StepSize*ThreadLimit):df.shape[0]])\n",
    "        process.start()\n",
    "        threads.append(process)\n",
    "    for process in threads:\n",
    "        process.join()\n",
    "    return"
   ]
  },
  {
   "cell_type": "code",
   "execution_count": null,
   "id": "4cee6d0f",
   "metadata": {},
   "outputs": [],
   "source": [
    "def GetAccessToken(Key,Secret,Subscriber,Proxies):\n",
    "    MyKey = os.environ.get('MyKey')\n",
    "    MySecret = os.environ.get('MySecret')\n",
    "    MyKey = 'ProvideYourKey'\n",
    "    MySecret = 'ProvideYourSecret'\n",
    "    \n",
    "    s = Session()\n",
    "    s.proxies.update(proxies)\n",
    "    req = Request('POST','your api link',headers = {\"content-type\":\"application/json\"},data = '{\"grant_type\":\"client_credentials\"}',auth = (Key,Secret))\n",
    "    prepped = req.prepare()\n",
    "    resp = s.send(prepped)\n",
    "    if(resp.status_code == 200):\n",
    "        d = json.loads(resp.text)\n",
    "        Access_token = d['access_token']\n",
    "        Access_token = 'Bearer '+Access_token\n",
    "    else:\n",
    "        logging.warning(\"Unsucessful authorization. Please check the connection to API service.\")\n",
    "        sys.stdout.flush()\n",
    "        Access_token ='Unable to authorize'\n",
    "    return Access_token"
   ]
  },
  {
   "cell_type": "code",
   "execution_count": null,
   "id": "103365e3",
   "metadata": {},
   "outputs": [],
   "source": [
    "def GetAccessTokenDirect():\n",
    "    MyKey = os.environ.get('MyKey')\n",
    "    MySecret = os.environ.get('MySecret')\n",
    "    \n",
    "    MyKey = 'ProvideYourKey'\n",
    "    MySecret = 'ProvideYourSecret'\n",
    "    \n",
    "    Access_token = GetAccessToken(MyKey,MySecret,proxies)\n",
    "    return Access_token"
   ]
  },
  {
   "cell_type": "code",
   "execution_count": null,
   "id": "7ee8f7d6",
   "metadata": {},
   "outputs": [],
   "source": [
    "def GetAPIData(provideyourid):\n",
    "    Access_token = GetAccessTokenDirect()\n",
    "    TargetCnxn = ConnectToDB(ConnString)\n",
    "    r = requests.get(\"provide your api link\"+str(yourid),headers = {\"Authorization\":Access_token},proxies = proxies)\n",
    "    df = pd.DataFrame()\n",
    "    df['yourid'] = [str[yourid]]\n",
    "    df['Data'] = [json.dumps(r.json())]\n",
    "    df.to_sql(name = 'YourTableName',con = TargetCnxn, schema = 'dbo',if_exists ='append',index=False,index_label = None,chunksize = 100000)\n",
    "    return"
   ]
  },
  {
   "cell_type": "code",
   "execution_count": null,
   "id": "c463976f",
   "metadata": {},
   "outputs": [],
   "source": [
    "GetAPIData(yourId)"
   ]
  }
 ],
 "metadata": {
  "kernelspec": {
   "display_name": "Python 3 (ipykernel)",
   "language": "python",
   "name": "python3"
  },
  "language_info": {
   "codemirror_mode": {
    "name": "ipython",
    "version": 3
   },
   "file_extension": ".py",
   "mimetype": "text/x-python",
   "name": "python",
   "nbconvert_exporter": "python",
   "pygments_lexer": "ipython3",
   "version": "3.9.7"
  }
 },
 "nbformat": 4,
 "nbformat_minor": 5
}
