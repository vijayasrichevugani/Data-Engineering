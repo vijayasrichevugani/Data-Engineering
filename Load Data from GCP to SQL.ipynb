{
 "cells": [
  {
   "cell_type": "markdown",
   "id": "5fb26d2e",
   "metadata": {},
   "source": [
    "Connect to SQL Server"
   ]
  },
  {
   "cell_type": "code",
   "execution_count": null,
   "id": "1c857ddd",
   "metadata": {},
   "outputs": [],
   "source": [
    "from sqlalchemy import create_engine\n",
    "import sqlalchemy as sqa\n",
    "import urllib\n",
    "ConnStr = \"DRIVER = {Provide your driver name };TrustServerCertificate = yes;Authentication=ActiveDirectoryIntegrated;SERVER = GiveyourServernamewithport;DATABASE = DBNAME\"\n",
    "params = urllib.parse.quote_plus(ConnStr)\n",
    "engine = sqa.create_engine(\"mssql+pyodbc:///?odbc_connect-%s\"%params)\n",
    "cnxn = engine.connect()\n",
    "cnxn.fast_executemany = True"
   ]
  },
  {
   "cell_type": "markdown",
   "id": "fc0a09f0",
   "metadata": {},
   "source": [
    "Update the proxy settings according to your project/requirement"
   ]
  },
  {
   "cell_type": "code",
   "execution_count": null,
   "id": "54acc59d",
   "metadata": {},
   "outputs": [],
   "source": [
    "os.environ[\"HTTPS_PROXY\"] = \"http://yourproxy:port\"\n",
    "os.environ[\"HTTP_PROXY\"] = \"http://yourproxy:port\""
   ]
  },
  {
   "cell_type": "markdown",
   "id": "fbf78ea0",
   "metadata": {},
   "source": [
    "I am using the service account. Hence reading the key from the folder where I saved"
   ]
  },
  {
   "cell_type": "code",
   "execution_count": null,
   "id": "f3dff4b4",
   "metadata": {},
   "outputs": [],
   "source": [
    "os.chdir(r\"C:\\Users\\yourname\\Desktop\\GCPConnector\\GCP-connector\")"
   ]
  },
  {
   "cell_type": "code",
   "execution_count": null,
   "id": "266f1c4c",
   "metadata": {},
   "outputs": [],
   "source": [
    "credentials = service_account.Credentials.from_service_account_file(\"yourserviceaccountkeyfile.json\")"
   ]
  },
  {
   "cell_type": "markdown",
   "id": "17bcdc8d",
   "metadata": {},
   "source": [
    "Connect with bigquery client using below commands"
   ]
  },
  {
   "cell_type": "code",
   "execution_count": null,
   "id": "f589aa4c",
   "metadata": {},
   "outputs": [],
   "source": [
    "project_id = \"your-project-id\""
   ]
  },
  {
   "cell_type": "markdown",
   "id": "d6c01ce2",
   "metadata": {},
   "source": [
    "Get the data from the bigquery dataset "
   ]
  },
  {
   "cell_type": "code",
   "execution_count": null,
   "id": "6d8d81ab",
   "metadata": {},
   "outputs": [],
   "source": [
    "query = '''select * from ProjectName.DatasetName'''\n",
    "client = bigquery.Client(credentials= credentials,project = project_id)\n",
    "query_job = client.query(query)\n",
    "rows = query_job.result()\n",
    "#print(rows)"
   ]
  },
  {
   "cell_type": "markdown",
   "id": "e55a1502",
   "metadata": {},
   "source": [
    "Get the data into a dataframe"
   ]
  },
  {
   "cell_type": "code",
   "execution_count": null,
   "id": "c3ec6644",
   "metadata": {},
   "outputs": [],
   "source": [
    "df = rows.to_dataframe()\n",
    "df.head()"
   ]
  },
  {
   "cell_type": "markdown",
   "id": "d08114c0",
   "metadata": {},
   "source": [
    "Checking the number of rows in the dataframe"
   ]
  },
  {
   "cell_type": "code",
   "execution_count": null,
   "id": "c8127c0e",
   "metadata": {},
   "outputs": [],
   "source": [
    "df.shape"
   ]
  },
  {
   "cell_type": "markdown",
   "id": "34cdb5dd",
   "metadata": {},
   "source": [
    "Function to Load huge datasets to SQL"
   ]
  },
  {
   "cell_type": "code",
   "execution_count": null,
   "id": "8c1a5aa9",
   "metadata": {},
   "outputs": [],
   "source": [
    "def ParallelLoad(df,TargetTable,ConnString,func,ThreadLimit = 16):\n",
    "    connections = []\n",
    "    for i in range(0,ThreadLimit,1):\n",
    "        connections.append(ConnectToDB(ConnString))\n",
    "    threads=[]\n",
    "    StepSize = int(df.shape[0]/ThreadLimit)\n",
    "    for i in range(0,ThreadLimit):\n",
    "        process = Thread(target=func,args = [TargetTable,connections[i],df[i*StepSize:(i*StepSize)+StepSize]])\n",
    "        process.start()\n",
    "        threads.append(process)\n",
    "    for process in threads:\n",
    "        process.join()\n",
    "    threads = []\n",
    "    if (StepSize*ThreadLimit)!= df.shape[0]:\n",
    "        process = Thread(target=func,args = [TargetTable,connection[0],df(StepSize*ThreadLimit):df.shape[0]])\n",
    "        process.start()\n",
    "        threads.append(process)\n",
    "    for process in threads:\n",
    "        process.join()\n",
    "    return"
   ]
  },
  {
   "cell_type": "markdown",
   "id": "05882db5",
   "metadata": {},
   "source": [
    "Function to Create Table in SQL Database"
   ]
  },
  {
   "cell_type": "code",
   "execution_count": null,
   "id": "9ccaddc2",
   "metadata": {},
   "outputs": [],
   "source": [
    "def CreateTable(df,tableName):\n",
    "    columnName = list(df.column.values)\n",
    "    createTableStatement = 'CREATE TABLE '+tableName + ' ('\n",
    "    for i in range(len(columnName)):\n",
    "        createTableStatement = createTableStatement+ '\\n'+\"[\"+columnName[i]+\"]\"+' '+'NVARCHAR(max) NULL'+','\n",
    "    createTableStatement = createTableStatement[:-1]+')'\n",
    "    print(\"createTableStatement \",createTableStatement)\n",
    "    conn = pyodbc.connect('DRIVER = {Your Driver Name};'\n",
    "                         'TrustServerCertificate = yes;'\n",
    "                         'Authentication=ActiveDirectoryIntegrated;'\n",
    "                          'SERVER = GiveyourServername:port;'\n",
    "                          'DATABASE = DBNAME')\n",
    "    cursor = conn.cursor()\n",
    "    dropStatement = 'DROP TABLE IF EXIST dbo.'+tableName\n",
    "    cursor.execute(dropStatement)\n",
    "    cursor.execute(createTableStatement)\n",
    "    logging.info(tableName+\"Table Created Successfully.\")\n",
    "    #commit your changes in database\n",
    "    conn.commit()\n",
    "    #close the connection\n",
    "    conn.close()"
   ]
  },
  {
   "cell_type": "markdown",
   "id": "bacf64b9",
   "metadata": {},
   "source": [
    "Create Table in SQL Database"
   ]
  },
  {
   "cell_type": "code",
   "execution_count": null,
   "id": "bbb5da3c",
   "metadata": {},
   "outputs": [],
   "source": [
    "tableName = 'YourTableName'\n",
    "CreateTable(df,tableName)"
   ]
  },
  {
   "cell_type": "markdown",
   "id": "2cb8c12e",
   "metadata": {},
   "source": [
    "Load Data into Table"
   ]
  },
  {
   "cell_type": "code",
   "execution_count": null,
   "id": "12610d91",
   "metadata": {},
   "outputs": [],
   "source": [
    "result = ParallelLoad(df,tableName,ConnString,LoadToSQL,16)"
   ]
  }
 ],
 "metadata": {
  "kernelspec": {
   "display_name": "Python 3 (ipykernel)",
   "language": "python",
   "name": "python3"
  },
  "language_info": {
   "codemirror_mode": {
    "name": "ipython",
    "version": 3
   },
   "file_extension": ".py",
   "mimetype": "text/x-python",
   "name": "python",
   "nbconvert_exporter": "python",
   "pygments_lexer": "ipython3",
   "version": "3.9.7"
  }
 },
 "nbformat": 4,
 "nbformat_minor": 5
}
